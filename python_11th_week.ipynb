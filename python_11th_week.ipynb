{
  "nbformat": 4,
  "nbformat_minor": 0,
  "metadata": {
    "colab": {
      "provenance": [],
      "authorship_tag": "ABX9TyOwGWM+3+nvb8TAhVdRKyHL",
      "include_colab_link": true
    },
    "kernelspec": {
      "name": "python3",
      "display_name": "Python 3"
    },
    "language_info": {
      "name": "python"
    }
  },
  "cells": [
    {
      "cell_type": "markdown",
      "metadata": {
        "id": "view-in-github",
        "colab_type": "text"
      },
      "source": [
        "<a href=\"https://colab.research.google.com/github/ykkim77/python-11th-week/blob/main/python_11th_week.ipynb\" target=\"_parent\"><img src=\"https://colab.research.google.com/assets/colab-badge.svg\" alt=\"Open In Colab\"/></a>"
      ]
    },
    {
      "cell_type": "markdown",
      "metadata": {
        "id": "zu9cO1_w3fQY"
      },
      "source": [
        "\n",
        "# 클래스 생성자\n",
        "\n"
      ]
    },
    {
      "cell_type": "markdown",
      "metadata": {
        "id": "mNShx2tY9GNd"
      },
      "source": [
        "**생성자 정의**"
      ]
    },
    {
      "cell_type": "code",
      "metadata": {
        "id": "dcSt8UY41bS7"
      },
      "source": [
        "class Country:\n",
        "    name = '국가명'\n",
        "    population = '인구'\n",
        "    capital = '수도'\n",
        "    calling_code = '국가 전화번호'\n",
        "\n",
        "    def __init__(self,name,population, capital):\n",
        "        print(\"init class\")\n",
        "        self.name = name\n",
        "        self.population = population\n",
        "        self.capital = capital\n",
        "\n",
        "    def show(self):\n",
        "        print(\"국가명은 : %s 입니다.\"%self.name)\n",
        "        print(\"인구는 : %s명 입니다.\"%self.population)\n",
        "        print(\"수도는 : %s 입니다.\" %self.capital)\n",
        "        print(\"국가 전화번호는 : %s 입니다.\" %self.calling_code)\n",
        "\n"
      ],
      "execution_count": 5,
      "outputs": []
    },
    {
      "cell_type": "markdown",
      "metadata": {
        "id": "Bd-loVey9OhV"
      },
      "source": [
        "**생성자의 사용**"
      ]
    },
    {
      "cell_type": "markdown",
      "metadata": {
        "id": "xGOhrr5X9rOR"
      },
      "source": [
        "생성자 parameter 개수를 맞추지 못할 경우--- 에러 발생!!!"
      ]
    },
    {
      "cell_type": "code",
      "metadata": {
        "colab": {
          "base_uri": "https://localhost:8080/",
          "height": 149
        },
        "id": "wf40hTv69Nu6",
        "outputId": "a7d775e1-4fc7-437e-9af6-32154e82b23d"
      },
      "source": [
        "korea = Country()"
      ],
      "execution_count": 6,
      "outputs": [
        {
          "output_type": "error",
          "ename": "TypeError",
          "evalue": "Country.__init__() missing 3 required positional arguments: 'name', 'population', and 'capital'",
          "traceback": [
            "\u001b[0;31m---------------------------------------------------------------------------\u001b[0m",
            "\u001b[0;31mTypeError\u001b[0m                                 Traceback (most recent call last)",
            "\u001b[0;32m<ipython-input-6-54eaa560c607>\u001b[0m in \u001b[0;36m<cell line: 1>\u001b[0;34m()\u001b[0m\n\u001b[0;32m----> 1\u001b[0;31m \u001b[0mkorea\u001b[0m \u001b[0;34m=\u001b[0m \u001b[0mCountry\u001b[0m\u001b[0;34m(\u001b[0m\u001b[0;34m)\u001b[0m\u001b[0;34m\u001b[0m\u001b[0;34m\u001b[0m\u001b[0m\n\u001b[0m",
            "\u001b[0;31mTypeError\u001b[0m: Country.__init__() missing 3 required positional arguments: 'name', 'population', and 'capital'"
          ]
        }
      ]
    },
    {
      "cell_type": "markdown",
      "metadata": {
        "id": "2bsk9xsu-3kw"
      },
      "source": [
        "생성자 parameter 규칙을 맞추며 클래스 객체화"
      ]
    },
    {
      "cell_type": "code",
      "metadata": {
        "colab": {
          "base_uri": "https://localhost:8080/"
        },
        "id": "XWnaX5B8_qqt",
        "outputId": "6a1a4adf-db69-4670-b1cc-f7997ed9964d"
      },
      "source": [
        "korea = Country(\"대한민국\",50000000,\"서울\")"
      ],
      "execution_count": 7,
      "outputs": [
        {
          "output_type": "stream",
          "name": "stdout",
          "text": [
            "init class\n"
          ]
        }
      ]
    },
    {
      "cell_type": "code",
      "metadata": {
        "colab": {
          "base_uri": "https://localhost:8080/"
        },
        "id": "p0IGPrUIAhzk",
        "outputId": "594114c1-dbf0-4868-d572-3a9122830176"
      },
      "source": [
        "korea.show()"
      ],
      "execution_count": 8,
      "outputs": [
        {
          "output_type": "stream",
          "name": "stdout",
          "text": [
            "국가명은 : 대한민국 입니다.\n",
            "인구는 : 50000000명 입니다.\n",
            "수도는 : 서울 입니다.\n",
            "국가 전화번호는 : 국가 전화번호 입니다.\n"
          ]
        }
      ]
    },
    {
      "cell_type": "code",
      "metadata": {
        "id": "1gQQd1-VDh1Y"
      },
      "source": [
        "korea.calling_code = 82"
      ],
      "execution_count": 9,
      "outputs": []
    },
    {
      "cell_type": "code",
      "metadata": {
        "colab": {
          "base_uri": "https://localhost:8080/"
        },
        "id": "j-ALYJtlDm9V",
        "outputId": "83cb5eab-e8c2-4e57-fa7f-f78004b20558"
      },
      "source": [
        "korea.show()"
      ],
      "execution_count": 10,
      "outputs": [
        {
          "output_type": "stream",
          "name": "stdout",
          "text": [
            "국가명은 : 대한민국 입니다.\n",
            "인구는 : 50000000명 입니다.\n",
            "수도는 : 서울 입니다.\n",
            "국가 전화번호는 : 82 입니다.\n"
          ]
        }
      ]
    },
    {
      "cell_type": "markdown",
      "metadata": {
        "id": "oSsg32zsFAZU"
      },
      "source": [
        "# 클래스 상속"
      ]
    },
    {
      "cell_type": "markdown",
      "metadata": {
        "id": "pbuGU-GXGzux"
      },
      "source": [
        "클래스 상속 및 정의"
      ]
    },
    {
      "cell_type": "code",
      "metadata": {
        "id": "4r8t-fv5FCcN"
      },
      "source": [
        "class Korea(Country):\n",
        "    independence_fighter = []\n",
        "\n",
        "    def add_independence_fighter(self, name):\n",
        "        self.independence_fighter.append(name)\n",
        "\n",
        "    def show_independence_fighter(self):\n",
        "        print(self.independence_fighter)\n",
        "\n",
        "    def show(self):     # 메서드 오버라이딩\n",
        "        super().show()\n",
        "        print(\"우리나라의 독립운동가 : \",self.independence_fighter)"
      ],
      "execution_count": 11,
      "outputs": []
    },
    {
      "cell_type": "code",
      "metadata": {
        "colab": {
          "base_uri": "https://localhost:8080/"
        },
        "id": "pFLLrTpPIWq1",
        "outputId": "d3a46b80-abdb-4fce-f626-b7a78a96ad72"
      },
      "source": [
        "a = Korea(\"대한민국\",50000000,\"서울\")\n",
        "a.add_independence_fighter(\"유관순\")\n",
        "a.add_independence_fighter(\"김구\")\n",
        "a.show()"
      ],
      "execution_count": 12,
      "outputs": [
        {
          "output_type": "stream",
          "name": "stdout",
          "text": [
            "init class\n",
            "국가명은 : 대한민국 입니다.\n",
            "인구는 : 50000000명 입니다.\n",
            "수도는 : 서울 입니다.\n",
            "국가 전화번호는 : 국가 전화번호 입니다.\n",
            "우리나라의 독립운동가 :  ['유관순', '김구']\n"
          ]
        }
      ]
    },
    {
      "cell_type": "markdown",
      "metadata": {
        "id": "kB2hDkPhJEkW"
      },
      "source": [
        "생성자 함수의 오버라이딩"
      ]
    },
    {
      "cell_type": "code",
      "metadata": {
        "id": "9rHclm03JMTm"
      },
      "source": [
        "class Korea(Country):\n",
        "    independence_fighter = []\n",
        "\n",
        "    def __init__(self):\n",
        "        self.name = \"대한민국\"\n",
        "        self.population = 50000000\n",
        "        self.capital = \"서울\"\n",
        "\n",
        "\n",
        "    def add_independence_fighter(self, name):\n",
        "        self.independence_fighter.append(name)\n",
        "\n",
        "    def show_independence_fighter(self):\n",
        "        print(self.independence_fighter)\n",
        "\n",
        "    def show(self):     # 메서드 오버라이딩\n",
        "        super().show()\n",
        "        print(\"우리나라의 독립운동가 : \",self.independence_fighter)"
      ],
      "execution_count": null,
      "outputs": []
    },
    {
      "cell_type": "code",
      "metadata": {
        "id": "Wk7dU9vFJft9"
      },
      "source": [
        "a = Korea()\n",
        "a.add_independence_fighter(\"유관순\")\n",
        "a.add_independence_fighter(\"안중근\")\n",
        "a.show()"
      ],
      "execution_count": null,
      "outputs": []
    },
    {
      "cell_type": "code",
      "metadata": {
        "id": "FnUZCCtLnHts"
      },
      "source": [
        "class USA(Country):\n",
        "    state = []\n",
        "\n",
        "    def __init__(self):\n",
        "        self.name = \"미국\"\n",
        "        self.population = 300000000\n",
        "        self.capital = \"Washington\"\n",
        "\n",
        "    def add_state(self, state):\n",
        "        self.state.append(state)\n",
        "\n",
        "    def show(self):\n",
        "        super().show()\n",
        "        print(\"미국의 주 : \",self.state)"
      ],
      "execution_count": 14,
      "outputs": []
    },
    {
      "cell_type": "code",
      "metadata": {
        "colab": {
          "base_uri": "https://localhost:8080/"
        },
        "id": "ZIhvXeEWp_50",
        "outputId": "527563d5-d467-49ac-e58c-54c995a59770"
      },
      "source": [
        "a = USA()\n",
        "a.add_state('CA')\n",
        "a.add_state('NY')\n",
        "a.add_state('TX')\n",
        "a.show()"
      ],
      "execution_count": 15,
      "outputs": [
        {
          "output_type": "stream",
          "name": "stdout",
          "text": [
            "국가명은 : 미국 입니다.\n",
            "인구는 : 300000000명 입니다.\n",
            "수도는 : Washington 입니다.\n",
            "국가 전화번호는 : 국가 전화번호 입니다.\n",
            "미국의 주 :  ['CA', 'NY', 'TX']\n"
          ]
        }
      ]
    }
  ]
}